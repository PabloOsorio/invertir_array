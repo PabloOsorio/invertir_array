{
  "nbformat": 4,
  "nbformat_minor": 0,
  "metadata": {
    "colab": {
      "provenance": [],
      "authorship_tag": "ABX9TyORmvqvgU1/mE37xABWWy6k",
      "include_colab_link": true
    },
    "kernelspec": {
      "name": "python3",
      "display_name": "Python 3"
    },
    "language_info": {
      "name": "python"
    }
  },
  "cells": [
    {
      "cell_type": "markdown",
      "metadata": {
        "id": "view-in-github",
        "colab_type": "text"
      },
      "source": [
        "<a href=\"https://colab.research.google.com/github/PabloOsorio/invertir_array/blob/main/picos_Array.ipynb\" target=\"_parent\"><img src=\"https://colab.research.google.com/assets/colab-badge.svg\" alt=\"Open In Colab\"/></a>"
      ]
    },
    {
      "cell_type": "code",
      "execution_count": null,
      "metadata": {
        "colab": {
          "base_uri": "https://localhost:8080/",
          "height": 36
        },
        "id": "qOhmbIMslTDK",
        "outputId": "ddcc5514-61e9-4a41-9d95-3a89857d87ff"
      },
      "outputs": [
        {
          "output_type": "execute_result",
          "data": {
            "text/plain": [
              "'7,9,13,'"
            ],
            "application/vnd.google.colaboratory.intrinsic+json": {
              "type": "string"
            }
          },
          "metadata": {},
          "execution_count": 38
        }
      ],
      "source": [
        "L1 = [1,7,2,1,9,4,7,11,13,1]\n",
        "def picosArray(x):\n",
        "    aux = ''\n",
        "    for i in range(1, len(x)-1):\n",
        "        if x[i]>x[i+1] and x[i]>x[i-1]:\n",
        "            aux += str(x[i]) + ','\n",
        "    return aux\n",
        "\n",
        "picosArray(L1)"
      ]
    },
    {
      "cell_type": "code",
      "source": [
        "L1 = [1,7,2,1,9,4,7,11,13,0,3]\n",
        "def invertirArr(x):\n",
        "    fin = len(x)\n",
        "    i = 0\n",
        "    j = fin-1\n",
        "    aux = None\n",
        "    while j >= i:\n",
        "        aux = x[i]\n",
        "        x[i] = x[j]\n",
        "        x[j]=aux\n",
        "        i+=1\n",
        "        j-=1\n",
        "    return x\n",
        "invertirArr(L1)"
      ],
      "metadata": {
        "colab": {
          "base_uri": "https://localhost:8080/"
        },
        "id": "u0T8G2KZAmWN",
        "outputId": "70b85533-2c99-489b-e709-29dc59c64912"
      },
      "execution_count": 53,
      "outputs": [
        {
          "output_type": "execute_result",
          "data": {
            "text/plain": [
              "[3, 0, 13, 11, 7, 4, 9, 1, 2, 7, 1]"
            ]
          },
          "metadata": {},
          "execution_count": 53
        }
      ]
    }
  ]
}